{
 "cells": [
  {
   "cell_type": "code",
   "execution_count": null,
   "metadata": {
    "scrolled": true
   },
   "outputs": [
    {
     "name": "stderr",
     "output_type": "stream",
     "text": [
      "Setting up a new session...\n",
      "Traceback (most recent call last):\n",
      "  File \"/home/ytzx/anaconda3/lib/python3.6/site-packages/urllib3/connection.py\", line 141, in _new_conn\n",
      "    (self.host, self.port), self.timeout, **extra_kw)\n",
      "  File \"/home/ytzx/anaconda3/lib/python3.6/site-packages/urllib3/util/connection.py\", line 83, in create_connection\n",
      "    raise err\n",
      "  File \"/home/ytzx/anaconda3/lib/python3.6/site-packages/urllib3/util/connection.py\", line 73, in create_connection\n",
      "    sock.connect(sa)\n",
      "ConnectionRefusedError: [Errno 111] Connection refused\n",
      "\n",
      "During handling of the above exception, another exception occurred:\n",
      "\n",
      "Traceback (most recent call last):\n",
      "  File \"/home/ytzx/anaconda3/lib/python3.6/site-packages/urllib3/connectionpool.py\", line 601, in urlopen\n",
      "    chunked=chunked)\n",
      "  File \"/home/ytzx/anaconda3/lib/python3.6/site-packages/urllib3/connectionpool.py\", line 357, in _make_request\n",
      "    conn.request(method, url, **httplib_request_kw)\n",
      "  File \"/home/ytzx/anaconda3/lib/python3.6/http/client.py\", line 1254, in request\n",
      "    self._send_request(method, url, body, headers, encode_chunked)\n",
      "  File \"/home/ytzx/anaconda3/lib/python3.6/http/client.py\", line 1300, in _send_request\n",
      "    self.endheaders(body, encode_chunked=encode_chunked)\n",
      "  File \"/home/ytzx/anaconda3/lib/python3.6/http/client.py\", line 1249, in endheaders\n",
      "    self._send_output(message_body, encode_chunked=encode_chunked)\n",
      "  File \"/home/ytzx/anaconda3/lib/python3.6/http/client.py\", line 1036, in _send_output\n",
      "    self.send(msg)\n",
      "  File \"/home/ytzx/anaconda3/lib/python3.6/http/client.py\", line 974, in send\n",
      "    self.connect()\n",
      "  File \"/home/ytzx/anaconda3/lib/python3.6/site-packages/urllib3/connection.py\", line 166, in connect\n",
      "    conn = self._new_conn()\n",
      "  File \"/home/ytzx/anaconda3/lib/python3.6/site-packages/urllib3/connection.py\", line 150, in _new_conn\n",
      "    self, \"Failed to establish a new connection: %s\" % e)\n",
      "urllib3.exceptions.NewConnectionError: <urllib3.connection.HTTPConnection object at 0x7f68c8f40518>: Failed to establish a new connection: [Errno 111] Connection refused\n",
      "\n",
      "During handling of the above exception, another exception occurred:\n",
      "\n",
      "Traceback (most recent call last):\n",
      "  File \"/home/ytzx/anaconda3/lib/python3.6/site-packages/requests/adapters.py\", line 440, in send\n",
      "    timeout=timeout\n",
      "  File \"/home/ytzx/anaconda3/lib/python3.6/site-packages/urllib3/connectionpool.py\", line 639, in urlopen\n",
      "    _stacktrace=sys.exc_info()[2])\n",
      "  File \"/home/ytzx/anaconda3/lib/python3.6/site-packages/urllib3/util/retry.py\", line 388, in increment\n",
      "    raise MaxRetryError(_pool, url, error or ResponseError(cause))\n",
      "urllib3.exceptions.MaxRetryError: HTTPConnectionPool(host='localhost', port=8097): Max retries exceeded with url: /env/densenet121 (Caused by NewConnectionError('<urllib3.connection.HTTPConnection object at 0x7f68c8f40518>: Failed to establish a new connection: [Errno 111] Connection refused',))\n",
      "\n",
      "During handling of the above exception, another exception occurred:\n",
      "\n",
      "Traceback (most recent call last):\n",
      "  File \"/home/ytzx/anaconda3/lib/python3.6/site-packages/visdom/__init__.py\", line 711, in _send\n",
      "    data=json.dumps(msg),\n",
      "  File \"/home/ytzx/anaconda3/lib/python3.6/site-packages/visdom/__init__.py\", line 677, in _handle_post\n",
      "    r = self.session.post(url, data=data)\n",
      "  File \"/home/ytzx/anaconda3/lib/python3.6/site-packages/requests/sessions.py\", line 555, in post\n",
      "    return self.request('POST', url, data=data, json=json, **kwargs)\n",
      "  File \"/home/ytzx/anaconda3/lib/python3.6/site-packages/requests/sessions.py\", line 508, in request\n",
      "    resp = self.send(prep, **send_kwargs)\n",
      "  File \"/home/ytzx/anaconda3/lib/python3.6/site-packages/requests/sessions.py\", line 618, in send\n",
      "    r = adapter.send(request, **kwargs)\n",
      "  File \"/home/ytzx/anaconda3/lib/python3.6/site-packages/requests/adapters.py\", line 508, in send\n",
      "    raise ConnectionError(e, request=request)\n",
      "requests.exceptions.ConnectionError: HTTPConnectionPool(host='localhost', port=8097): Max retries exceeded with url: /env/densenet121 (Caused by NewConnectionError('<urllib3.connection.HTTPConnection object at 0x7f68c8f40518>: Failed to establish a new connection: [Errno 111] Connection refused',))\n",
      "[Errno 111] Connection refused\n"
     ]
    },
    {
     "name": "stdout",
     "output_type": "stream",
     "text": [
      "Exception in user code:\n",
      "------------------------------------------------------------\n"
     ]
    },
    {
     "name": "stderr",
     "output_type": "stream",
     "text": [
      "100%|██████████| 32384/32384 [00:00<00:00, 669434.90it/s]\n",
      "100%|██████████| 3977/3977 [00:00<00:00, 927635.80it/s]"
     ]
    },
    {
     "name": "stdout",
     "output_type": "stream",
     "text": [
      "--start training--\n",
      "loading train dataset\n",
      "loading train dataset\n"
     ]
    },
    {
     "name": "stderr",
     "output_type": "stream",
     "text": [
      "\n",
      "\u001b[1;32;40mTrain Epoch:  1/40 [>>>>>>>>>>>>>>>>>>>>>>>>>>>>>>>>>>>>>>>>>>>>>>>>>>]\u001b[0m  [Current: Loss 0.910460 Top1: 70.488518 ]  3239/3239 \u001b[1;32;40m[ 100% ]\u001b[0m\n",
      "\u001b[1;32;40mVal   Epoch:  1/40 [>>>>>>>>>>>>>>>>>>>>>>>>>>>>>>>>>>>>>>>>>>>>>>>>>>]\u001b[0m  [Current: Loss 0.493651 Top1: 83.882317 ]  199/199 \u001b[1;32;40m[ 100% ]\u001b[0m\n"
     ]
    },
    {
     "name": "stdout",
     "output_type": "stream",
     "text": [
      "Get Better top1 : tensor(83.8823, device='cuda:0') saving weights to ./checkpoints/best_model/densenet121/0/model_best.pth.tar\n"
     ]
    },
    {
     "name": "stderr",
     "output_type": "stream",
     "text": [
      "\u001b[1;32;40mTrain Epoch:  2/40 [>>>>>>>>>>>>>>>>>>>>>>>>>>>>>>>>>>>>>>>>>>>>>>>>>>]\u001b[0m  [Current: Loss 0.716911 Top1: 76.377228 ]  3239/3239 \u001b[1;32;40m[ 100% ]\u001b[0m\n",
      "\u001b[1;32;40mVal   Epoch:  2/40 [>>>>>>>>>>>>>>>>>>>>>>>>>>>>>>>>>>>>>>>>>>>>>>>>>>]\u001b[0m  [Current: Loss 0.376053 Top1: 87.125969 ]  199/199 \u001b[1;32;40m[ 100% ]\u001b[0m\n"
     ]
    },
    {
     "name": "stdout",
     "output_type": "stream",
     "text": [
      "Get Better top1 : tensor(87.1260, device='cuda:0') saving weights to ./checkpoints/best_model/densenet121/0/model_best.pth.tar\n"
     ]
    },
    {
     "name": "stderr",
     "output_type": "stream",
     "text": [
      "\u001b[1;32;40mTrain Epoch:  3/40 [>>>>>>>>>>>>>>>>>>>>>>>>>>>>>>>>>>>>>>>>>>>>>>>>>>]\u001b[0m  [Current: Loss 0.618680 Top1: 79.477524 ]  3239/3239 \u001b[1;32;40m[ 100% ]\u001b[0m\n",
      "\u001b[1;32;40mVal   Epoch:  3/40 [>>>>>>>>>>>>>>>>>>>>>>>>>>>>>>>>>>>>>>>>>>>>>>>>>>]\u001b[0m  [Current: Loss 0.349163 Top1: 88.634644 ]  199/199 \u001b[1;32;40m[ 100% ]\u001b[0m\n"
     ]
    },
    {
     "name": "stdout",
     "output_type": "stream",
     "text": [
      "Get Better top1 : tensor(88.6346, device='cuda:0') saving weights to ./checkpoints/best_model/densenet121/0/model_best.pth.tar\n"
     ]
    },
    {
     "name": "stderr",
     "output_type": "stream",
     "text": [
      "\u001b[1;32;40mTrain Epoch:  4/40 [>>>>>>>>>>>>>>>>>>>>>>>>>>>>>>>>>>>>>>>>>>>>>>>>>>]\u001b[0m  [Current: Loss 0.554230 Top1: 81.564972 ]  3239/3239 \u001b[1;32;40m[ 100% ]\u001b[0m\n",
      "\u001b[1;32;40mVal   Epoch:  4/40 [>>>>>>>>>>>>>>>>>>>>>>>>>>>>>>>>>>>>>>>>>>>>>>>>>>]\u001b[0m  [Current: Loss 0.298802 Top1: 89.212975 ]  199/199 \u001b[1;32;40m[ 100% ]\u001b[0m\n"
     ]
    },
    {
     "name": "stdout",
     "output_type": "stream",
     "text": [
      "Get Better top1 : tensor(89.2130, device='cuda:0') saving weights to ./checkpoints/best_model/densenet121/0/model_best.pth.tar\n"
     ]
    },
    {
     "name": "stderr",
     "output_type": "stream",
     "text": [
      "\u001b[1;32;40mTrain Epoch:  5/40 [>>>>>>>>>>>>>>>>>>>>>>>>>>>>>>>>>>>>>>>>>>>>>>>>>>]\u001b[0m  [Current: Loss 0.507787 Top1: 83.090416 ]  3239/3239 \u001b[1;32;40m[ 100% ]\u001b[0m\n",
      "\u001b[1;32;40mVal   Epoch:  5/40 [>>>>>>>>>>>>>>>>>>>>>>>>>>>>>>>>>>>>>>>>>>>>>>>>>>]\u001b[0m  [Current: Loss 0.264814 Top1: 91.023384 ]  199/199 \u001b[1;32;40m[ 100% ]\u001b[0m\n"
     ]
    },
    {
     "name": "stdout",
     "output_type": "stream",
     "text": [
      "Get Better top1 : tensor(91.0234, device='cuda:0') saving weights to ./checkpoints/best_model/densenet121/0/model_best.pth.tar\n"
     ]
    },
    {
     "name": "stderr",
     "output_type": "stream",
     "text": [
      "\u001b[1;32;40mTrain Epoch:  6/40 [>>>>>>>>>>>>>>>>>>>>>>>>>>>>>>>>>>>>>>>>>>>>>>>>>>]\u001b[0m  [Current: Loss 0.472550 Top1: 84.217514 ]  3239/3239 \u001b[1;32;40m[ 100% ]\u001b[0m\n",
      "\u001b[1;32;40mVal   Epoch:  6/40 [>>>>>>>>>>>>>>>>>>>>>>>>>>>>>>>>>>>>>>>>>>>>>>>>>>]\u001b[0m  [Current: Loss 0.235207 Top1: 91.677139 ]  199/199 \u001b[1;32;40m[ 100% ]\u001b[0m\n"
     ]
    },
    {
     "name": "stdout",
     "output_type": "stream",
     "text": [
      "Get Better top1 : tensor(91.6771, device='cuda:0') saving weights to ./checkpoints/best_model/densenet121/0/model_best.pth.tar\n"
     ]
    },
    {
     "name": "stderr",
     "output_type": "stream",
     "text": [
      "\u001b[1;32;40mTrain Epoch:  7/40 [>>>>>>>>>>>>>>>>>>>>>>>>>>>>>>>>>>>>>>>>>>>>>>>>>>]\u001b[0m  [Current: Loss 0.443615 Top1: 85.157127 ]  3239/3239 \u001b[1;32;40m[ 100% ]\u001b[0m\n",
      "\u001b[1;32;40mVal   Epoch:  7/40 [>>>>>>>>>>>>>>>>>>>>>>>>>>>>>>>>>>>>>>>>>>>>>>>>>>]\u001b[0m  [Current: Loss 0.258127 Top1: 91.375404 ]  199/199 \u001b[1;32;40m[ 100% ]\u001b[0m\n",
      "\u001b[1;32;40mTrain Epoch:  8/40 [>>>>>>>>>>>>>>>>>>>>>>>>>>>>>>>>>>>>>>>>>>>>>>>>>>]\u001b[0m  [Current: Loss 0.419845 Top1: 85.939049 ]  3239/3239 \u001b[1;32;40m[ 100% ]\u001b[0m\n",
      "\u001b[1;32;40mVal   Epoch:  8/40 [>>>>>>>>>>>>>>>>>>>>>>>>>>>>>>>>>>>>>>>>>>>>>>>>>>]\u001b[0m  [Current: Loss 0.244858 Top1: 91.576561 ]  199/199 \u001b[1;32;40m[ 100% ]\u001b[0m\n",
      "\u001b[1;32;40mTrain Epoch:  9/40 [>>>>>>>>>>>>>>>>>>>>>>>>>>>>>>>>>>>>>>>>>>>>>>>>>>]\u001b[0m  [Current: Loss 0.399029 Top1: 86.626114 ]  3239/3239 \u001b[1;32;40m[ 100% ]\u001b[0m\n",
      "\u001b[1;32;40mVal   Epoch:  9/40 [>>>>>>>>>>>>>>>>>>>>>>>>>>>>>>>>>>>>>>>>>>>>>>>>>>]\u001b[0m  [Current: Loss 0.217045 Top1: 92.607491 ]  199/199 \u001b[1;32;40m[ 100% ]\u001b[0m\n"
     ]
    },
    {
     "name": "stdout",
     "output_type": "stream",
     "text": [
      "Get Better top1 : tensor(92.6075, device='cuda:0') saving weights to ./checkpoints/best_model/densenet121/0/model_best.pth.tar\n"
     ]
    },
    {
     "name": "stderr",
     "output_type": "stream",
     "text": [
      "\u001b[1;32;40mTrain Epoch:  10/40 [>>>>>>>>>>>>>>>>>>>>>>>>>>>>>>>>>>>>>>>>>>>>>>>>>>]\u001b[0m  [Current: Loss 0.381063 Top1: 87.213127 ]  3239/3239 \u001b[1;32;40m[ 100% ]\u001b[0m\n",
      "\u001b[1;32;40mVal   Epoch:  10/40 [>>>>>>>>>>>>>>>>>>>>>>>>>>>>>>>>>>>>>>>>>>>>>>>>>>]\u001b[0m  [Current: Loss 0.219405 Top1: 92.431480 ]  199/199 \u001b[1;32;40m[ 100% ]\u001b[0m\n",
      "\u001b[1;32;40mTrain Epoch:  11/40 [>>>>>>>>>>>>>>>>>>>>>>>>>>>>>>>>>>>>>>>>>>>>>>>>>>]\u001b[0m  [Current: Loss 0.360572 Top1: 87.918556 ]  3239/3239 \u001b[1;32;40m[ 100% ]\u001b[0m\n",
      "\u001b[1;32;40mVal   Epoch:  11/40 [>>>>>>>>>>>>>>>>>>>>>>>>>>>>>>>>>>>>>>>>>>>>>>>>>>]\u001b[0m  [Current: Loss 0.163432 Top1: 94.116165 ]  199/199 \u001b[1;32;40m[ 100% ]\u001b[0m\n"
     ]
    },
    {
     "name": "stdout",
     "output_type": "stream",
     "text": [
      "Get Better top1 : tensor(94.1162, device='cuda:0') saving weights to ./checkpoints/best_model/densenet121/0/model_best.pth.tar\n"
     ]
    },
    {
     "name": "stderr",
     "output_type": "stream",
     "text": [
      "\u001b[1;32;40mTrain Epoch:  12/40 [>>>>>>>>>>>>>>>>>>>>>>>>>>>>>>>>>>>>>>>>>>>>>>>>>>]\u001b[0m  [Current: Loss 0.342188 Top1: 88.562767 ]  3239/3239 \u001b[1;32;40m[ 100% ]\u001b[0m\n",
      "\u001b[1;32;40mVal   Epoch:  12/40 [>>>>>>>>>>>>>>>>>>>>>>>>>>>>>>>>>>>>>>>>>>>>>>>>>>]\u001b[0m  [Current: Loss 0.161356 Top1: 94.443047 ]  199/199 \u001b[1;32;40m[ 100% ]\u001b[0m\n"
     ]
    },
    {
     "name": "stdout",
     "output_type": "stream",
     "text": [
      "Get Better top1 : tensor(94.4430, device='cuda:0') saving weights to ./checkpoints/best_model/densenet121/0/model_best.pth.tar\n"
     ]
    },
    {
     "name": "stderr",
     "output_type": "stream",
     "text": [
      "\u001b[1;32;40mTrain Epoch:  13/40 [>>>>>>>>>>>>>>>>>>>>>>>>>>>>>>>>>>>>>>>>>>>>>>>>>>]\u001b[0m  [Current: Loss 0.325998 Top1: 89.129013 ]  3239/3239 \u001b[1;32;40m[ 100% ]\u001b[0m\n",
      "\u001b[1;32;40mVal   Epoch:  13/40 [>>>>>>>>>>>>>>>>>>>>>>>>>>>>>>>>>>>>>>>>>>>>>>>>>>]\u001b[0m  [Current: Loss 0.154673 Top1: 94.392754 ]  199/199 \u001b[1;32;40m[ 100% ]\u001b[0m\n",
      "\u001b[1;32;40mTrain Epoch:  14/40 [>>>>>>>>>>>>>>>>>>>>>>>>>>>>>>>>>>>>>>>>>>>>>>>>>>]\u001b[0m  [Current: Loss 0.311394 Top1: 89.634872 ]  3239/3239 \u001b[1;32;40m[ 100% ]\u001b[0m\n",
      "\u001b[1;32;40mVal   Epoch:  14/40 [>>>>>>>>>>>>>>>>>>>>>>>>>>>>>>>>>>>>>>>>>>>>>>>>>>]\u001b[0m  [Current: Loss 0.169223 Top1: 94.141312 ]  199/199 \u001b[1;32;40m[ 100% ]\u001b[0m\n",
      "\u001b[1;32;40mTrain Epoch:  15/40 [>>>>>>>>>>>>>>>>>>>>>>>>>>>>>>>>>>>>>>>>>>>>>>>>>>]\u001b[0m  [Current: Loss 0.298426 Top1: 90.086052 ]  3239/3239 \u001b[1;32;40m[ 100% ]\u001b[0m\n",
      "\u001b[1;32;40mVal   Epoch:  15/40 [>>>>>>>>>>>>>>>>>>>>>>>>>>>>>>>>>>>>>>>>>>>>>>>>>>]\u001b[0m  [Current: Loss 0.137545 Top1: 95.222527 ]  199/199 \u001b[1;32;40m[ 100% ]\u001b[0m\n"
     ]
    },
    {
     "name": "stdout",
     "output_type": "stream",
     "text": [
      "Get Better top1 : tensor(95.2225, device='cuda:0') saving weights to ./checkpoints/best_model/densenet121/0/model_best.pth.tar\n"
     ]
    },
    {
     "name": "stderr",
     "output_type": "stream",
     "text": [
      "\u001b[1;32;40mTrain Epoch:  16/40 [>>>>>>>>>>>>>>>>>>>>>>>>>>>>>>>>>>>>>>>>>>>>>>>>>>]\u001b[0m  [Current: Loss 0.287194 Top1: 90.472733 ]  3239/3239 \u001b[1;32;40m[ 100% ]\u001b[0m\n",
      "\u001b[1;32;40mVal   Epoch:  16/40 [>>>>>>>>>>>>>>>>>>>>>>>>>>>>>>>>>>>>>>>>>>>>>>>>>>]\u001b[0m  [Current: Loss 0.147372 Top1: 95.021370 ]  199/199 \u001b[1;32;40m[ 100% ]\u001b[0m\n",
      "\u001b[1;32;40mTrain Epoch:  17/40 [>>>>>>>>>>>>>>>>>>>>>>>>>>>>>>>>>>>>>>>>>>>>>>>>>>]\u001b[0m  [Current: Loss 0.276928 Top1: 90.830078 ]  3239/3239 \u001b[1;32;40m[ 100% ]\u001b[0m\n",
      "\u001b[1;32;40mVal   Epoch:  17/40 [>>>>>>>>>>>>>>>>>>>>>>>>>>>>>>>>>>>>>>>>>>>>>>>>>>]\u001b[0m  [Current: Loss 0.154783 Top1: 94.669342 ]  199/199 \u001b[1;32;40m[ 100% ]\u001b[0m\n",
      "\u001b[1;32;40mTrain Epoch:  18/40 [>>>>>>>>>>>>>>>>>>>>>>>>>>>>>>>>>>>>>>>>>>>>>>>>>>]\u001b[0m  [Current: Loss 0.267718 Top1: 91.152695 ]  3239/3239 \u001b[1;32;40m[ 100% ]\u001b[0m\n",
      "\u001b[1;32;40mVal   Epoch:  18/40 [>>>>>>>>>>>>>>>>>>>>>>>>>>>>>>>>>>>>>>>>>>>>>>>>>>]\u001b[0m  [Current: Loss 0.146264 Top1: 94.744781 ]  199/199 \u001b[1;32;40m[ 100% ]\u001b[0m\n",
      "\u001b[1;32;40mTrain Epoch:  19/40 [>>>>>>>>>>>>>>>>>>>>>>>>>>>>>>>>>>>>>>>>>>>>>>>>>>]\u001b[0m  [Current: Loss 0.259365 Top1: 91.444283 ]  3239/3239 \u001b[1;32;40m[ 100% ]\u001b[0m\n",
      "\u001b[1;32;40mVal   Epoch:  19/40 [>>>>>>>>>>>>>>>>>>>>>>>>>>>>>>>>>>>>>>>>>>>>>>>>>>]\u001b[0m  [Current: Loss 0.144211 Top1: 94.845360 ]  199/199 \u001b[1;32;40m[ 100% ]\u001b[0m\n",
      "\u001b[1;32;40mTrain Epoch:  20/40 [>>>>>>>>>>>>>>>>>>>>>>>>>>>>>>>>>>>>>>>>>>>>>>>>>>]\u001b[0m  [Current: Loss 0.251593 Top1: 91.712883 ]  3239/3239 \u001b[1;32;40m[ 100% ]\u001b[0m\n",
      "\u001b[1;32;40mVal   Epoch:  20/40 [>>>>>>>>>>>>>>>>>>>>>>>>>>>>>>>>>>>>>>>>>>>>>>>>>>]\u001b[0m  [Current: Loss 0.146095 Top1: 94.820213 ]  199/199 \u001b[1;32;40m[ 100% ]\u001b[0m\n",
      "\u001b[1;32;40mTrain Epoch:  21/40 [>>>>>>>>>>>>>>>>>>>>>>>>>>>>>>>>>>>>>>>>>>>>>>>>>>]\u001b[0m  [Current: Loss 0.244462 Top1: 91.955467 ]  3239/3239 \u001b[1;32;40m[ 100% ]\u001b[0m\n",
      "\u001b[1;32;40mVal   Epoch:  21/40 [>>>>>>>>>>>>>>>>>>>>>>>>>>>>>>>>>>>>>>>>>>>>>>>>>>]\u001b[0m  [Current: Loss 0.149831 Top1: 94.870499 ]  199/199 \u001b[1;32;40m[ 100% ]\u001b[0m\n",
      "\u001b[1;32;40mTrain Epoch:  22/40 [>>>>>>>>>>>>>>>>>>>>>>>>>>>>>>>>>>>>>>>>>>>>>>>>>>]\u001b[0m  [Current: Loss 0.237776 Top1: 92.189186 ]  3239/3239 \u001b[1;32;40m[ 100% ]\u001b[0m\n",
      "\u001b[1;32;40mVal   Epoch:  22/40 [>>>>>>>>>>>>>>>>>>>>>>>>>>>>>>>>>>>>>>>>>>>>>>>>>>]\u001b[0m  [Current: Loss 0.149350 Top1: 94.870499 ]  199/199 \u001b[1;32;40m[ 100% ]\u001b[0m\n",
      "\u001b[1;32;40mTrain Epoch:  23/40 [>>>>>>>>>>>>>>>>>>>>>>>>>>>>>>>>>>>>>>>>>>>>>>>>>>]\u001b[0m  [Current: Loss 0.231875 Top1: 92.392212 ]  3239/3239 \u001b[1;32;40m[ 100% ]\u001b[0m\n",
      "\u001b[1;32;40mVal   Epoch:  23/40 [>>>>>>>>>>>>>>>>>>>>>>>>>>>>>>>>>>>>>>>>>>>>>>>>>>]\u001b[0m  [Current: Loss 0.135655 Top1: 95.071655 ]  199/199 \u001b[1;32;40m[ 100% ]\u001b[0m\n",
      "\u001b[1;32;40mTrain Epoch:  24/40 [>>>>>>>>>>>>>>>>>>>>>>>>>>>>>>>>>>>>>>>>>>>>>>>>>>]\u001b[0m  [Current: Loss 0.226341 Top1: 92.582184 ]  3239/3239 \u001b[1;32;40m[ 100% ]\u001b[0m\n",
      "\u001b[1;32;40mVal   Epoch:  24/40 [>>>>>>>>>>>>>>>>>>>>>>>>>>>>>>>>>>>>>>>>>>>>>>>>>>]\u001b[0m  [Current: Loss 0.156677 Top1: 94.644203 ]  199/199 \u001b[1;32;40m[ 100% ]\u001b[0m\n",
      "\u001b[1;32;40mTrain Epoch:  25/40 [>>>>>>>>>>>>>>>>>>>>>>>>>>>>>>>>>>>>>>>>>>>>>>>>>>]\u001b[0m  [Current: Loss 0.221250 Top1: 92.758392 ]  3239/3239 \u001b[1;32;40m[ 100% ]\u001b[0m\n",
      "\u001b[1;32;40mVal   Epoch:  25/40 [>>>>>>>>>>>>>>>>>>>>>>>>>>>>>>>>>>>>>>>>>>>>>>>>>>]\u001b[0m  [Current: Loss 0.142624 Top1: 95.071655 ]  199/199 \u001b[1;32;40m[ 100% ]\u001b[0m\n",
      "\u001b[1;32;40mTrain Epoch:  26/40 [>>>>>>>>>>>>>>>>>>>>>>>>>>>>>>>>>>>>>>>>>>>>>>>>>>]\u001b[0m  [Current: Loss 0.216489 Top1: 92.923386 ]  3239/3239 \u001b[1;32;40m[ 100% ]\u001b[0m\n",
      "\u001b[1;32;40mVal   Epoch:  26/40 [>>>>>>>>>>>>>>>>>>>>>>>>>>>>>>>>>>>>>>>>>>>>>>>>>>]\u001b[0m  [Current: Loss 0.142100 Top1: 95.172234 ]  199/199 \u001b[1;32;40m[ 100% ]\u001b[0m\n",
      "\u001b[1;32;40mTrain Epoch:  27/40 [>>>>>>>>>>>>>>>>>>>>>>>>>>>>>>>>>>>>>>>>>>>>>>>>>>]\u001b[0m  [Current: Loss 0.212120 Top1: 93.076180 ]  3239/3239 \u001b[1;32;40m[ 100% ]\u001b[0m\n",
      "\u001b[1;32;40mVal   Epoch:  27/40 [>>>>>>>>>>>>>>>>>>>>>>>>>>>>>>>>>>>>>>>>>>>>>>>>>>]\u001b[0m  [Current: Loss 0.131639 Top1: 95.473969 ]  199/199 \u001b[1;32;40m[ 100% ]\u001b[0m\n"
     ]
    },
    {
     "name": "stdout",
     "output_type": "stream",
     "text": [
      "Get Better top1 : tensor(95.4740, device='cuda:0') saving weights to ./checkpoints/best_model/densenet121/0/model_best.pth.tar\n"
     ]
    },
    {
     "name": "stderr",
     "output_type": "stream",
     "text": [
      "\u001b[1;32;40mTrain Epoch:  28/40 [>>>>>>>>>>>>>>>>>>>>>>>>>>>>>>>>>>>>>>>>>>>>>>>>>>]\u001b[0m  [Current: Loss 0.208075 Top1: 93.220055 ]  3239/3239 \u001b[1;32;40m[ 100% ]\u001b[0m\n",
      "\u001b[1;32;40mVal   Epoch:  28/40 [>>>>>>>>>>>>>>>>>>>>>>>>>>>>>>>>>>>>>>>>>>>>>>>>>>]\u001b[0m  [Current: Loss 0.148363 Top1: 94.845360 ]  199/199 \u001b[1;32;40m[ 100% ]\u001b[0m\n",
      "\u001b[1;32;40mTrain Epoch:  29/40 [>>>>>>>>>>>>>>>>>>>>>>>>>>>>>>>>>>>>>>>>>>>>>>>>>>]\u001b[0m  [Current: Loss 0.204214 Top1: 93.355873 ]  3239/3239 \u001b[1;32;40m[ 100% ]\u001b[0m\n",
      "\u001b[1;32;40mVal   Epoch:  29/40 [>>>>>>>>>>>>>>>>>>>>>>>>>>>>>>>>>>>>>>>>>>>>>>>>>>]\u001b[0m  [Current: Loss 0.147984 Top1: 94.795067 ]  199/199 \u001b[1;32;40m[ 100% ]\u001b[0m\n",
      "\u001b[1;32;40mTrain Epoch:  30/40 [>>>>>>>>>>>>>>>>>>>>>>>>>>>>>>>>>>>>>>>>>>>>>>>>>>]\u001b[0m  [Current: Loss 0.200650 Top1: 93.479462 ]  3239/3239 \u001b[1;32;40m[ 100% ]\u001b[0m\n",
      "\u001b[1;32;40mVal   Epoch:  30/40 [>>>>>>>>>>>>>>>>>>>>>>>>>>>>>>>>>>>>>>>>>>>>>>>>>>]\u001b[0m  [Current: Loss 0.133140 Top1: 95.323105 ]  199/199 \u001b[1;32;40m[ 100% ]\u001b[0m\n",
      "\u001b[1;32;40mTrain Epoch:  31/40 [>>>>>>>>>>>>>>>>>>>>>>>>>>>>>>>>>>>>>>>>>>>>>>>>>>]\u001b[0m  [Current: Loss 0.197218 Top1: 93.597977 ]  3239/3239 \u001b[1;32;40m[ 100% ]\u001b[0m\n",
      "\u001b[1;32;40mVal   Epoch:  31/40 [>>>>>>>>>>>>>>>>>>>>>>>>>>>>>>>>>>>>>>>>>>>>>>>>>>]\u001b[0m  [Current: Loss 0.145271 Top1: 94.920792 ]  199/199 \u001b[1;32;40m[ 100% ]\u001b[0m\n",
      "\u001b[1;32;40mTrain Epoch:  32/40 [>>>>>>>>>>>>>>>>>>>>>>>>>>>>>>>>>>>>>>>>>>>>>>>>>>]\u001b[0m  [Current: Loss 0.194184 Top1: 93.700935 ]  3239/3239 \u001b[1;32;40m[ 100% ]\u001b[0m\n",
      "\u001b[1;32;40mVal   Epoch:  32/40 [>>>>>>>>>>>>>>>>>>>>>>>>>>>>>>>>>>>>>>>>>>>>>>>>>>]\u001b[0m  [Current: Loss 0.134262 Top1: 95.473969 ]  199/199 \u001b[1;32;40m[ 100% ]\u001b[0m\n",
      "\u001b[1;32;40mTrain Epoch:  33/40 [>>>>>>>>>>>>>>>>>>>>>>>>>>>>>>>>>>>>>>>>>>>>>>>>>>]\u001b[0m  [Current: Loss 0.191125 Top1: 93.808876 ]  3239/3239 \u001b[1;32;40m[ 100% ]\u001b[0m\n",
      "\u001b[1;32;40mVal   Epoch:  33/40 [>>>>>>>>>>>>>>>>>>>>>>>>>>>>>>>>>>>>>>>>>>>>>>>>>>]\u001b[0m  [Current: Loss 0.141645 Top1: 95.096802 ]  199/199 \u001b[1;32;40m[ 100% ]\u001b[0m\n",
      "\u001b[1;32;40mTrain Epoch:  34/40 [>>>>>>>>>>>>>>>>>>>>>>>>>>>>>>>>>>>>>>>>>>>>>>>>>>]\u001b[0m  [Current: Loss 0.188312 Top1: 93.905319 ]  3239/3239 \u001b[1;32;40m[ 100% ]\u001b[0m\n",
      "\u001b[1;32;40mVal   Epoch:  34/40 [>>>>>>>>>>>>>>>>>>>>>>>>>>>>>>>>>>>>>>>>>>>>>>>>>>]\u001b[0m  [Current: Loss 0.137004 Top1: 95.247673 ]  199/199 \u001b[1;32;40m[ 100% ]\u001b[0m\n",
      "\u001b[1;32;40mTrain Epoch:  35/40 [>>>>>>>>>>>>>>>>>>>>>>>>>>>>>>>>>>>>>>>>>>>>>>>>>>]\u001b[0m  [Current: Loss 0.185691 Top1: 93.995712 ]  3239/3239 \u001b[1;32;40m[ 100% ]\u001b[0m\n",
      "\u001b[1;32;40mVal   Epoch:  35/40 [>>>>>>>>>>>>>>>>>>>>>>>>>>>>>>>>>>>>>>>>>>>>>>>>>>]\u001b[0m  [Current: Loss 0.127525 Top1: 95.800850 ]  199/199 \u001b[1;32;40m[ 100% ]\u001b[0m\n"
     ]
    },
    {
     "name": "stdout",
     "output_type": "stream",
     "text": [
      "Get Better top1 : tensor(95.8008, device='cuda:0') saving weights to ./checkpoints/best_model/densenet121/0/model_best.pth.tar\n"
     ]
    },
    {
     "name": "stderr",
     "output_type": "stream",
     "text": [
      "\u001b[1;32;40mTrain Epoch:  36/40 [>>>>>>>>>>>>>>>>>>>>>>>>>>>>>>>>>>>>>>>>>>>>>>>>>>]\u001b[0m  [Current: Loss 0.183226 Top1: 94.081757 ]  3239/3239 \u001b[1;32;40m[ 100% ]\u001b[0m\n",
      "\u001b[1;32;40mVal   Epoch:  36/40 [>>>>>>>>>>>>>>>>>>>>>>>>>>>>>>>>>>>>>>>>>>>>>>>>>>]\u001b[0m  [Current: Loss 0.135868 Top1: 95.323105 ]  199/199 \u001b[1;32;40m[ 100% ]\u001b[0m\n",
      "\u001b[1;32;40mTrain Epoch:  37/40 [>>>>>>>>>>>>>>>>>>>>>>>>>>>>>>>>>>>>>>>>>>>>>>>>>>]\u001b[0m  [Current: Loss 0.180837 Top1: 94.166046 ]  3239/3239 \u001b[1;32;40m[ 100% ]\u001b[0m\n",
      "\u001b[1;32;40mVal   Epoch:  37/40 [>>>>>>>>>>>>>>>>>>>>>>>>>>>>>>>>>>>>>>>>>>>>>>>>>>]\u001b[0m  [Current: Loss 0.143950 Top1: 95.297958 ]  199/199 \u001b[1;32;40m[ 100% ]\u001b[0m\n",
      "\u001b[1;32;40mTrain Epoch:  38/40 [>>>>>>>>>>>>>>>>>>>>>>                            ]\u001b[0m  [Current: Loss 0.179887 Top1: 94.198578 ]  1445/3239 \u001b[1;32;40m[  44% ]\u001b[0m"
     ]
    }
   ],
   "source": [
    "import warnings\n",
    "from torch import nn,optim\n",
    "from torch.autograd import Variable \n",
    "from torch.utils.data import DataLoader\n",
    "from dataset.dataloader import *\n",
    "from models.model import *\n",
    "from utils import *\n",
    "from visualizations.vis import Visualizer\n",
    "\n",
    "#1. set random.seed and cudnn performance\n",
    "random.seed(config.seed)\n",
    "np.random.seed(config.seed)\n",
    "torch.manual_seed(config.seed)\n",
    "torch.cuda.manual_seed_all(config.seed)\n",
    "os.environ[\"CUDA_VISIBLE_DEVICES\"] = config.gpus\n",
    "torch.backends.cudnn.benchmark = True\n",
    "warnings.filterwarnings('ignore')\n",
    "best_model_path = \"/home/ytzx/densenet_pytorch/12.15/checkpoints/best_model/densenet121/model_best.pth.tar\"\n",
    "\n",
    "#2. evaluate func\n",
    "def evaluate(val_loader,model,criterion,epoch,vis):\n",
    "    #2.1 define meters\n",
    "    losses = AverageMeter()\n",
    "    top1 = AverageMeter()\n",
    "    #progress bar\n",
    "    val_progressor = ProgressBar(mode=\"Val  \",\n",
    "                                 epoch=epoch,\n",
    "                                 total_epoch=config.epochs,\n",
    "                                 model_name=config.model_name,total=len(val_loader))\n",
    "    #2.2 switch to evaluate mode and confirm model has been transfered to cuda\n",
    "    model.cuda()\n",
    "    model.eval()\n",
    "    with torch.no_grad():\n",
    "        for i,(input,target) in enumerate(val_loader):\n",
    "            val_progressor.current = i\n",
    "            input = Variable(input).cuda()\n",
    "            target = Variable(torch.from_numpy(np.array(target)).long()).cuda()\n",
    "            #target = Variable(target).cuda()\n",
    "            #2.2.1 compute output\n",
    "            output = model(input)\n",
    "            loss = criterion(output,target)\n",
    "\n",
    "            #2.2.2 measure accuracy and record loss\n",
    "            precision1,precision2 = accuracy(output,target,topk=(1,2))\n",
    "            losses.update(loss.item(),input.size(0))\n",
    "            top1.update(precision1[0],input.size(0))\n",
    "\n",
    "\n",
    "#             vis.plot('val_loss', losses.avg)\n",
    "#             vis.plot('val_precision', top1.avg)\n",
    "\n",
    "            val_progressor.current_loss = losses.avg\n",
    "            val_progressor.current_top1 = top1.avg\n",
    "            val_progressor()\n",
    "        val_progressor.done()\n",
    "    return [losses.avg,top1.avg]\n",
    "\n",
    "\n",
    "def main():\n",
    "    fold = 0\n",
    "    #4.1 mkdirs\n",
    "    if not os.path.exists(config.submit):\n",
    "        os.mkdir(config.submit)\n",
    "    if not os.path.exists(config.weights):\n",
    "        os.mkdir(config.weights)\n",
    "    if not os.path.exists(config.best_models):\n",
    "        os.mkdir(config.best_models)\n",
    "    if not os.path.exists(config.lorizhgs):\n",
    "        os.mkdir(config.logs)\n",
    "    if not os.path.exists(config.weights + config.model_name + os.sep +str(fold) + os.sep):\n",
    "        os.makedirs(config.weights + config.model_name + os.sep +str(fold) + os.sep)\n",
    "    if not os.path.exists(config.best_models + config.model_name + os.sep +str(fold) + os.sep):\n",
    "        os.makedirs(config.best_models + config.model_name + os.sep +str(fold) + os.sep)\n",
    "\n",
    "\n",
    "\n",
    "    vis = Visualizer(env=config.model_name)\n",
    "    # 创建模型\n",
    "    model = torchvision.models.densenet121(pretrained=True)\n",
    "    # 全连接层\n",
    "    model.fc = nn.Linear(1000, config.num_classes)\n",
    "    model.cuda()\n",
    "\n",
    "\n",
    "    optimizer = optim.Adam(model.parameters(),\n",
    "                           lr = config.lr,\n",
    "                           amsgrad=True,\n",
    "                           weight_decay=config.weight_decay)\n",
    "    # 定义交叉熵损失函数\n",
    "    criterion = nn.CrossEntropyLoss().cuda()\n",
    "    if os.path.isfile(best_model_path):\n",
    "        checkpoint = torch.load(best_model_path)\n",
    "        model.load_state_dict(checkpoint['state_dict'])\n",
    "        optimizer.load_state_dict(checkpoint['optimizer'])\n",
    "        start_epoch = checkpoint['epoch']+1\n",
    "        print(\"--continue training--\")\n",
    "    else:\n",
    "        start_epoch = 0\n",
    "        print(\"--start training--\")\n",
    "    best_precision1 = 0\n",
    "    best_precision_save = 0\n",
    "\n",
    "    # 读取数据\n",
    "    train_data_list = get_files(config.train_data,\"train\")\n",
    "    val_data_list = get_files(config.val_data,\"val\")\n",
    "\n",
    "    train_dataloader = DataLoader(ChaojieDataset(train_data_list),\n",
    "                                  batch_size=config.batch_size,\n",
    "                                  shuffle=True,\n",
    "                                  collate_fn=collate_fn,\n",
    "                                  pin_memory=True,\n",
    "                                  num_workers=15)\n",
    "    val_dataloader = DataLoader(ChaojieDataset(val_data_list,train=False),\n",
    "                                batch_size=config.batch_size*2,\n",
    "                                shuffle=True,\n",
    "                                collate_fn=collate_fn,\n",
    "                                pin_memory=False,\n",
    "                                num_workers=15)\n",
    "\n",
    "    scheduler =  optim.lr_scheduler.StepLR(optimizer,\n",
    "                                           step_size = 10,\n",
    "                                           gamma=0.1)\n",
    "    #4.5.5.1 define metrics\n",
    "    train_losses = AverageMeter()\n",
    "    train_top1 = AverageMeter()\n",
    "    valid_loss = [np.inf,0,0]\n",
    "    model.train()\n",
    "\n",
    "    #4.5.5 train\n",
    "    for epoch in range(start_epoch,config.epochs):\n",
    "        scheduler.step(epoch)\n",
    "        # 定义进度条\n",
    "        train_progressor = ProgressBar(mode=\"Train\",epoch=epoch,\n",
    "                                       total_epoch=config.epochs,\n",
    "                                       model_name=config.model_name,\n",
    "                                       total=len(train_dataloader))\n",
    "\n",
    "        # 训练\n",
    "        for iter,(input,target) in enumerate(train_dataloader):\n",
    "            train_progressor.current = iter\n",
    "            model.train()\n",
    "\n",
    "            # 定义输入图像\n",
    "            input = Variable(input).cuda()\n",
    "            # 定义标注信息\n",
    "            target = Variable(torch.from_numpy(np.array(target)).long()).cuda()\n",
    "            # 神经网络输出\n",
    "            output = model(input)\n",
    "            # 计算损失\n",
    "            loss = criterion(output,target)\n",
    "\n",
    "            precision1_train,precision2_train = accuracy(output,target,\n",
    "                                                         topk=(1,2))\n",
    "            train_losses.update(loss.item(),input.size(0))\n",
    "            train_top1.update(precision1_train[0],input.size(0))\n",
    "\n",
    "            train_progressor.current_loss = train_losses.avg\n",
    "            train_progressor.current_top1 = train_top1.avg\n",
    "\n",
    "            #if (iter + 1) % config.plot_every == 0:\n",
    "\n",
    "#             vis.plot('train_loss', train_losses.avg)\n",
    "            #vis.plot('train_precision', torch.stack(train_top1.avg))\n",
    "\n",
    "            # 梯度反向传播\n",
    "            optimizer.zero_grad()\n",
    "            loss.backward()\n",
    "            optimizer.step()\n",
    "            # 显示进度条\n",
    "            train_progressor()\n",
    "\n",
    "        train_progressor.done()\n",
    "\n",
    "\n",
    "        #evaluate\n",
    "        #lr = get_learning_rate(optimizer)\n",
    "\n",
    "        #evaluate every half epoch\n",
    "        valid_loss = evaluate(val_dataloader,model,criterion,epoch,vis)\n",
    "        is_best = valid_loss[1] > best_precision1\n",
    "        best_precision1 = max(valid_loss[1],best_precision1)\n",
    "\n",
    "        try:\n",
    "            best_precision_save = best_precision1.cpu().data.numpy()\n",
    "        except:\n",
    "            pass\n",
    "\n",
    "        save_checkpoint({\n",
    "                    \"epoch\":epoch + 1,\n",
    "                    \"model_name\":config.model_name,\n",
    "                    \"state_dict\":model.state_dict(),\n",
    "                    \"best_precision1\":best_precision1,\n",
    "                    \"optimizer\":optimizer.state_dict(),\n",
    "                    \"fold\":fold,\n",
    "                    \"valid_loss\":valid_loss,\n",
    "        },is_best,fold)\n",
    "\n",
    "if __name__ ==\"__main__\":\n",
    "    main()\n"
   ]
  },
  {
   "cell_type": "code",
   "execution_count": null,
   "metadata": {},
   "outputs": [],
   "source": []
  }
 ],
 "metadata": {
  "kernelspec": {
   "display_name": "Python 3",
   "language": "python",
   "name": "python3"
  },
  "language_info": {
   "codemirror_mode": {
    "name": "ipython",
    "version": 3
   },
   "file_extension": ".py",
   "mimetype": "text/x-python",
   "name": "python",
   "nbconvert_exporter": "python",
   "pygments_lexer": "ipython3",
   "version": "3.6.9"
  }
 },
 "nbformat": 4,
 "nbformat_minor": 2
}
